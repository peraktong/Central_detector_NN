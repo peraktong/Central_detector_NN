{
 "cells": [
  {
   "cell_type": "code",
   "execution_count": 1,
   "metadata": {},
   "outputs": [
    {
     "name": "stdout",
     "output_type": "stream",
     "text": [
      "The code is on Void Seeker\n",
      "data_path /mount/Void_Seeker/Data_remote/\n"
     ]
    },
    {
     "name": "stderr",
     "output_type": "stream",
     "text": [
      "Using TensorFlow backend.\n"
     ]
    }
   ],
   "source": [
    "import illustris_python as il\n",
    "import sklearn\n",
    "from sklearn.ensemble import RandomForestRegressor\n",
    "from sklearn.impute import SimpleImputer\n",
    "import random\n",
    "import matplotlib.patches as patches\n",
    "import numpy as np\n",
    "from scipy import integrate\n",
    "from scipy.optimize import fsolve\n",
    "import os,matplotlib\n",
    "import time,pickle,_pickle\n",
    "import matplotlib.pyplot as plt\n",
    "from matplotlib.pylab import rc\n",
    "import os\n",
    "import h5py\n",
    "import math\n",
    "import os.path\n",
    "import tensorflow as tf\n",
    "import keras\n",
    "\n",
    "import pickle\n",
    "tf.enable_eager_execution()\n",
    "tf.VERSION\n",
    "AUTOTUNE = tf.data.experimental.AUTOTUNE\n",
    "\n",
    "\n",
    "\n",
    "def log10(x):\n",
    "    if x > 0:\n",
    "        return math.log10(x)\n",
    "    else:\n",
    "        return -np.inf\n",
    "\n",
    "\n",
    "def exp(x):\n",
    "    try:\n",
    "        return math.exp(x)\n",
    "    except:\n",
    "        return np.inf\n",
    "\n",
    "\n",
    "# calculate L_lim:\n",
    "M_sun = 4.53\n",
    "M_apparent_lim = 24\n",
    "\n",
    "# distance in pc:\n",
    "distance = 324.67 * 1e6\n",
    "\n",
    "# apparent magnitude\n",
    "M_lim = 24 - 5 * (log10(distance) - 1)\n",
    "# print(M_lim)\n",
    "M_sun = 4.53\n",
    "# L_lim in unit of L_sun\n",
    "\n",
    "L_lim = 10 ** ((M_lim - M_sun) / (-2.5))\n",
    "\n",
    "\n",
    "# r band magnitude\n",
    "def M_to_L_r_band(Mr):\n",
    "    return 10 ** ((Mr - M_sun) / (-2.5))\n",
    "\n",
    "\n",
    "def log10(x):\n",
    "    if x > 0:\n",
    "        return math.log10(x)\n",
    "    else:\n",
    "        return np.nan\n",
    "\n",
    "def box_smooth(data_array):\n",
    "    N = len(data_array)\n",
    "\n",
    "    data_smooth = []\n",
    "\n",
    "    for i in range(0, N):\n",
    "        data_i = data_array[int(np.maximum(i - 1, 0)):int(np.minimum(i + 2, N))]\n",
    "        # print(np.nanmean(data_i))\n",
    "\n",
    "        data_smooth.append(np.nanmean(data_i))\n",
    "\n",
    "    data_smooth = np.array(data_smooth).ravel()\n",
    "    data_smooth[0] = np.nanmedian(data_array[:1])\n",
    "    return data_smooth\n",
    "\n",
    "def bootstrap_scatter_err(samples):\n",
    "    mask_finite = np.isfinite(samples)\n",
    "    samples = samples[mask_finite]\n",
    "    index_all = range(len(samples))\n",
    "    err_all = []\n",
    "    N=100\n",
    "    for i in range(0,N):\n",
    "        index_choose = np.random.randint(0,len(samples)-1,len(samples))\n",
    "        # k_i = np.nanstd(samples[index_choose])\n",
    "        k_i = np.percentile(samples[index_choose],84)-np.percentile(samples[index_choose],16)\n",
    "        k_i = k_i/2\n",
    "        err_all.append(k_i)\n",
    "    err_all = np.array(err_all)\n",
    "    if len(samples)<0:\n",
    "        err_all = np.nan\n",
    "\n",
    "    return err_all\n",
    "\n",
    "\n",
    "def exp(x):\n",
    "    try:\n",
    "        return math.exp(x)\n",
    "    except:\n",
    "        return np.inf\n",
    "\n",
    "def Mpeak_log_to_Vpeak_log(Mpeak_log):\n",
    "    return 0.3349*Mpeak_log - 1.672\n",
    "\n",
    "G = 4.301 * 10 ** (-9)\n",
    "cons = (4 * G * np.pi / (3 * (1 / 24 / (1.5 * 10 ** (11))) ** (1 / 3))) ** 0.5\n",
    "\n",
    "\n",
    "def calculate_v_dispersion(Mh):\n",
    "    return Mh ** (1 / 3) * cons\n",
    "\n",
    "\n",
    "exp = np.vectorize(exp)\n",
    "log10 = np.vectorize(log10)\n",
    "\n",
    "####!!!!!!! here are some extreme values:\n",
    "## Let's use 99 percent of data:\n",
    "\n",
    "\n",
    "def normalize(x,return_maxmin=False):\n",
    "\n",
    "    temp_max = np.nanpercentile(x,99)\n",
    "    temp_min = np.nanpercentile(x, 1)\n",
    "\n",
    "    if return_maxmin:\n",
    "        return 2 * (x - temp_min) / (temp_max - temp_min) - 1,temp_max,temp_min\n",
    "    else:\n",
    "        return 2 * (x - temp_min) / (temp_max - temp_min) - 1\n",
    "\n",
    "\n",
    "\n",
    "plot_path = \"/Users/caojunzhi/Downloads/upload_201909_Jeremy/\"\n",
    "\n",
    "\n",
    "if os.path.isdir(\"/Volumes/SSHD_2TB\") == True:\n",
    "    print(\"The code is on Spear of Adun\")\n",
    "\n",
    "    ## Move to Data_10TB\n",
    "    data_path = \"/Volumes/Data_10TB/\"\n",
    "\n",
    "elif os.path.isdir(\"/mount/sirocco1/jc6933/test\") == True:\n",
    "    data_path = \"/mount/sirocco2/jc6933/Data_sirocco/\"\n",
    "    print(\"The code is on Sirocco\")\n",
    "\n",
    "# Kratos\n",
    "elif os.path.isdir(\"/home/jc6933/test_kratos\") == True:\n",
    "    data_path = \"/mount/kratos/jc6933/Data/\"\n",
    "    print(\"The code is on Kratos\")\n",
    "\n",
    "# Void Seeker\n",
    "elif os.path.isdir(\"/home/jc6933/test_Void_Seeker\") == True:\n",
    "    data_path = \"/mount/Void_Seeker/Data_remote/\"\n",
    "    print(\"The code is on Void Seeker\")\n",
    "\n",
    "### PRINCE:\n",
    "elif os.path.isdir(\"/home/jc6933/test_folder_prince\") == True:\n",
    "    data_path = \"/scratch/jc6933/\"\n",
    "    print(\"The code is on PRINCE\")\n",
    "\n",
    "else:\n",
    "    print(\"The code is on local\")\n",
    "    data_path = \"/Volumes/Extreme_SSD/Data/\"\n",
    "\n",
    "print(\"data_path %s\" % data_path)\n"
   ]
  },
  {
   "cell_type": "markdown",
   "metadata": {},
   "source": [
    "# Read TNG data at different redshifts"
   ]
  },
  {
   "cell_type": "code",
   "execution_count": 2,
   "metadata": {},
   "outputs": [
    {
     "name": "stdout",
     "output_type": "stream",
     "text": [
      "Finish reading data\n"
     ]
    },
    {
     "name": "stderr",
     "output_type": "stream",
     "text": [
      "/home/jc6933/anaconda3/envs/tf14/lib/python3.7/site-packages/ipykernel_launcher.py:53: RuntimeWarning: invalid value encountered in greater\n"
     ]
    }
   ],
   "source": [
    "# Let's read data from TNG:\n",
    "\n",
    "# z=0:\n",
    "\n",
    "n_group = 99\n",
    "\n",
    "# read TNG300:\n",
    "\n",
    "\n",
    "fields = ['GroupBHMass', \"Group_M_Crit200\", \"GroupFirstSub\",\"Group_R_Crit200\",\"GroupSFR\",\"GroupCM\"]\n",
    "\n",
    "basePath = data_path + 'TNG100/TNG300-1/output'\n",
    "halos = il.groupcat.loadHalos(basePath, n_group, fields=fields)\n",
    "halos.keys()\n",
    "\n",
    "GroupBHMass = halos['GroupBHMass'] * 1e10 / 0.704\n",
    "Group_M_Crit200 = halos[\"Group_M_Crit200\"] * 1e10 / 0.704\n",
    "GroupFirstSub = halos[\"GroupFirstSub\"]\n",
    "R_vir_z0 = halos[\"Group_R_Crit200\"]/ 0.704\n",
    "GroupSFR = halos[\"GroupSFR\"]\n",
    "GroupCM = halos[\"GroupCM\"]\n",
    "### for subhalo\n",
    "# Use this to derive the index for the subhalo:\n",
    "# Index into the Group table of the FOF host/parent of this Subhalo.\n",
    "\n",
    "fields = ['SubhaloMass', 'SubhaloSFR', \"SubhaloVmax\", \"SubhaloStellarPhotometricsMassInRad\", \"SubhaloBHMass\",\n",
    "          \"SubhaloGrNr\",\"SubhaloSpin\",\"SubhaloVelDisp\",\"SubhaloStellarPhotometrics\",\"SubhaloCM\",\"SubhaloStarMetalFractions\"]\n",
    "\n",
    "basePath = data_path + 'TNG100/TNG300-1/output'\n",
    "subhalos = il.groupcat.loadSubhalos(basePath, n_group, fields=fields)\n",
    "subhalos.keys()\n",
    "\n",
    "mass_msun = subhalos['SubhaloMass'] * 1e10 / 0.704\n",
    "Vmax = subhalos['SubhaloVmax']\n",
    "SubhaloStellarPhotometricsMassInRad = subhalos['SubhaloStellarPhotometricsMassInRad'] * 1e10 / 0.704\n",
    "SubhaloStellarPhotometrics = subhalos['SubhaloStellarPhotometrics']\n",
    "SubhaloBHMass = subhalos[\"SubhaloBHMass\"] * 1e10 / 0.704\n",
    "SubhaloCM = subhalos[\"SubhaloCM\"]\n",
    "SubhaloVelDisp = subhalos[\"SubhaloVelDisp\"]\n",
    "SubhaloStarMetalFractions = subhalos[\"SubhaloStarMetalFractions\"]\n",
    "SubhaloSFR = subhalos[\"SubhaloSFR\"]\n",
    "# index\n",
    "SubhaloGrNr = subhalos[\"SubhaloGrNr\"]\n",
    "\n",
    "Vmax_halo_z0 = Vmax[GroupFirstSub]\n",
    "Ms_halo_z0_log = log10(SubhaloStellarPhotometricsMassInRad[GroupFirstSub])\n",
    "Mh_log_z0 = log10(Group_M_Crit200)\n",
    "BH_mass_z0 = SubhaloBHMass[GroupFirstSub]\n",
    "\n",
    "magnitude_r = SubhaloStellarPhotometrics[:,5]\n",
    "L_r = M_to_L_r_band(magnitude_r)\n",
    "\n",
    "mask = Ms_halo_z0_log>8.0\n",
    "N = len(Ms_halo_z0_log[mask])\n",
    "\n",
    "print(\"Finish reading data\")\n",
    "\n"
   ]
  },
  {
   "cell_type": "code",
   "execution_count": 3,
   "metadata": {},
   "outputs": [],
   "source": [
    "# Use group first sub to detect central or satellites:\n",
    "# If the index is -1, it's not what we need:\n",
    "mask_central = list(set(GroupFirstSub)-set([-1]))\n",
    "mask_sat = set(np.arange(0,len(SubhaloSFR)-1))-set(GroupFirstSub)\n",
    "mask_sat = list(mask_sat)"
   ]
  },
  {
   "cell_type": "code",
   "execution_count": 4,
   "metadata": {},
   "outputs": [
    {
     "name": "stdout",
     "output_type": "stream",
     "text": [
      "14485709 11504190 2981519 14485709\n"
     ]
    }
   ],
   "source": [
    "# sanity check:\n",
    "print(len(SubhaloSFR),len(mask_central),len(mask_sat),len(mask_central)+len(mask_sat))"
   ]
  },
  {
   "cell_type": "markdown",
   "metadata": {},
   "source": [
    "# Let's construct central and satellite using p_cen: p_cen=1 for central and p_cen=0 for satellites"
   ]
  },
  {
   "cell_type": "markdown",
   "metadata": {},
   "source": [
    "# Include Ms, SFR, SubhaloStellarPhotometrics (8), and metallicity (10)"
   ]
  },
  {
   "cell_type": "code",
   "execution_count": 27,
   "metadata": {},
   "outputs": [],
   "source": [
    "# use log scale in both Ms and SFR!\n",
    "fusion_all = np.c_[log10(SubhaloStellarPhotometricsMassInRad),log10(SubhaloSFR),log10(Vmax),log10(SubhaloVelDisp),SubhaloStellarPhotometrics,log10(SubhaloStarMetalFractions)]\n",
    "fusion_central = fusion_all[mask_central,:]\n",
    "fusion_sat = fusion_all[mask_sat,:]\n",
    "p_cen = np.append(np.ones(len(mask_central)),np.zeros(len(mask_sat)))\n",
    "\n"
   ]
  },
  {
   "cell_type": "code",
   "execution_count": 28,
   "metadata": {},
   "outputs": [],
   "source": [
    "X = np.r_[fusion_central,fusion_sat]\n",
    "y = p_cen\n",
    "\n",
    "## only select samples with logMs>1e8 ?\n",
    "#mask_7 = (X[:,0]>9)&(X[:,0]<11)\n",
    "# drop data with missing values:\n",
    "# fit diffeent model for different logMs\n",
    "mask_7 = (X[:,0]>8)&(X[:,0]<9)\n",
    "X = X[mask_7,:]\n",
    "y = y[mask_7]\n",
    "\n"
   ]
  },
  {
   "cell_type": "markdown",
   "metadata": {},
   "source": [
    "# split train and test. Do shuffle:"
   ]
  },
  {
   "cell_type": "code",
   "execution_count": 7,
   "metadata": {},
   "outputs": [
    {
     "data": {
      "text/plain": [
       "(array([2.4000e+01, 5.2200e+02, 8.6260e+03, 4.4967e+04, 7.9965e+04,\n",
       "        4.0017e+04, 9.6310e+03, 3.5890e+03, 6.4400e+02, 7.6000e+01]),\n",
       " array([-4.52431195, -4.34667713, -4.16904231, -3.99140749, -3.81377267,\n",
       "        -3.63613786, -3.45850304, -3.28086822, -3.1032334 , -2.92559858,\n",
       "        -2.74796376]),\n",
       " <a list of 10 Patch objects>)"
      ]
     },
     "execution_count": 7,
     "metadata": {},
     "output_type": "execute_result"
    },
    {
     "data": {
      "image/png": "[encoded data removed]",
      "text/plain": [
       "<Figure size 432x288 with 1 Axes>"
      ]
     },
     "metadata": {
      "needs_background": "light"
     },
     "output_type": "display_data"
    }
   ],
   "source": [
    "# sanity check\n",
    "plt.hist(X[:,-1])"
   ]
  },
  {
   "cell_type": "code",
   "execution_count": 24,
   "metadata": {},
   "outputs": [],
   "source": [
    "X_train, X_test, y_train, y_test = sklearn.model_selection.train_test_split(X,y, test_size=0.2,shuffle=True)"
   ]
  },
  {
   "cell_type": "markdown",
   "metadata": {},
   "source": [
    "# Let's start with a gradient boost tree:\n"
   ]
  },
  {
   "cell_type": "code",
   "execution_count": 9,
   "metadata": {},
   "outputs": [],
   "source": [
    "### XGBOOST:\n",
    "import time\n",
    "# try xgboost:\n",
    "from xgboost import XGBClassifier\n",
    "from xgboost import plot_importance\n",
    "import pandas as pd\n",
    "\n",
    "label_names = [\"Ms_log\",\"SFR_log\",\"Vmax_log\",\"V_disp_log\",\"U\", \"B\", \"V\", \"K\", \"g\", \"r\", \"i\", \"z\",\"H\", \"He\", \"C\", \"N\", \"O\", \"Ne\", \"Mg\", \"Si\", \"Fe\", \"total_metallicity\"]\n"
   ]
  },
  {
   "cell_type": "code",
   "execution_count": 10,
   "metadata": {},
   "outputs": [
    {
     "name": "stdout",
     "output_type": "stream",
     "text": [
      "Doing gradient boost tree with GPU\n",
      "Time it takes using GPU=23.52\n",
      "Good=32408 Bad=5205\n",
      "Accuracy=0.8616 for testing set\n"
     ]
    }
   ],
   "source": [
    "\n",
    "time_start = time.time()\n",
    "params={}\n",
    "params['booster'] = \"gbtree\"\n",
    "#params['learning_rate'] = 0.02\n",
    "###params['max_depth'] = 12\n",
    "params['gpu_id'] = 0\n",
    "#params[\"subsample\"] = 0.85\n",
    "params['max_bin'] = 512\n",
    "params['tree_method'] = 'gpu_hist'\n",
    "\n",
    "## Add a combination of L1 and L2 regularization will help us to prevent overfitting\n",
    "\n",
    "# L1 regularization\n",
    "#params['reg_alpha'] = 0.15\n",
    "# L2 regularization\n",
    "#params['reg_lamdba'] = 0.85\n",
    "\n",
    "\n",
    "model = XGBClassifier(n_estimators=5000,verbose=2,n_jobs=-1,**params)\n",
    "print(\"Doing gradient boost tree with GPU\")\n",
    "X_train = pd.DataFrame(data=X_train, columns=label_names)\n",
    "model.fit(X_train,y_train)\n",
    "# predict:\n",
    "\n",
    "\n",
    "print(\"Time it takes using GPU=%.2f\"%(time.time()-time_start))\n",
    "\n",
    "\n",
    "X_test = pd.DataFrame(data=X_test, columns=label_names)\n",
    "Y_predict_test = model.predict(X_test)\n",
    "\n",
    "mask_good = abs(Y_predict_test-y_test)<0.01\n",
    "\n",
    "print(\"Good=%d Bad=%d\"%(len(Y_predict_test[mask_good]),len(Y_predict_test)-len(Y_predict_test[mask_good])))\n",
    "\n",
    "print(\"Accuracy=%.4f for testing set\"%(len(Y_predict_test[mask_good])/len(Y_predict_test)))\n",
    "\n"
   ]
  },
  {
   "cell_type": "code",
   "execution_count": 11,
   "metadata": {},
   "outputs": [
    {
     "name": "stdout",
     "output_type": "stream",
     "text": [
      "AUROC: 0.9293\n"
     ]
    },
    {
     "data": {
      "text/plain": [
       "<matplotlib.legend.Legend at 0x7f773ad57400>"
      ]
     },
     "execution_count": 11,
     "metadata": {},
     "output_type": "execute_result"
    },
    {
     "data": {
      "image/png": "[encoded data removed]",
      "text/plain": [
       "<Figure size 432x288 with 1 Axes>"
      ]
     },
     "metadata": {
      "needs_background": "light"
     },
     "output_type": "display_data"
    }
   ],
   "source": [
    "# plot AUROC curve:\n",
    "from sklearn.metrics import roc_curve\n",
    "from sklearn.metrics import roc_auc_score\n",
    "import matplotlib\n",
    "from matplotlib.pylab import rc\n",
    "\n",
    "\n",
    "def confusion_matrix(y_pred, y_true):\n",
    "    TP = len(y_pred[(y_pred == 1) & (y_true == 1)])\n",
    "    TN = len(y_pred[(y_pred == 1) & (y_true == 0)])\n",
    "    # type1 error : false alarm\n",
    "    FP = len(y_pred[(y_pred == 1) & (y_true == 0)])\n",
    "    # type 2 error. Fail to make alarm\n",
    "    FN = len(y_pred[(y_pred == 0) & (y_true == 1)])\n",
    "\n",
    "    recall = TP / (TP + FN)\n",
    "    precision = TP / (TP + FP)\n",
    "    accuracy = (TP + TN) / len(y_pred)\n",
    "\n",
    "    f1_score = 2 / (1 / precision + 1 / recall)\n",
    "    return TP, TN, FP, FN, recall, precision, accuracy, f1_score\n",
    "\n",
    "\n",
    "testy = y_test\n",
    "prob = model.predict_proba(X_test)\n",
    "probs = prob[:, 1]\n",
    "\n",
    "auc = roc_auc_score(testy, probs)\n",
    "print('AUROC: %.4f' % auc)\n",
    "\n",
    "## draw ROC:\n",
    "fpr, tpr, thresholds = roc_curve(testy, probs)\n",
    "\n",
    "\n",
    "plt.plot(fpr, tpr, color='r', label='AUROC=%.4f' % auc)\n",
    "plt.plot([0, 1], [0, 1], color='k', linewidth=4)\n",
    "plt.xlabel('False Positive Rate')\n",
    "plt.ylabel('True Positive Rate')\n",
    "plt.title('ROC')\n",
    "plt.legend()\n"
   ]
  },
  {
   "cell_type": "code",
   "execution_count": 12,
   "metadata": {},
   "outputs": [
    {
     "data": {
      "text/plain": [
       "<matplotlib.axes._subplots.AxesSubplot at 0x7f773a4e8cf8>"
      ]
     },
     "execution_count": 12,
     "metadata": {},
     "output_type": "execute_result"
    },
    {
     "data": {
      "image/png": "[encoded data removed]",
      "text/plain": [
       "<Figure size 432x288 with 1 Axes>"
      ]
     },
     "metadata": {
      "needs_background": "light"
     },
     "output_type": "display_data"
    }
   ],
   "source": [
    "# plot the importance for different parameters:\n",
    "plot_importance(model)"
   ]
  },
  {
   "cell_type": "code",
   "execution_count": 13,
   "metadata": {},
   "outputs": [
    {
     "data": {
      "text/plain": [
       "([array([16225.,     0.,     0.,     0.,     0.,     0.,     0.,     0.,\n",
       "             0., 21388.]),\n",
       "  array([14876.,     0.,     0.,     0.,     0.,     0.,     0.,     0.,\n",
       "             0., 22737.])],\n",
       " array([0. , 0.1, 0.2, 0.3, 0.4, 0.5, 0.6, 0.7, 0.8, 0.9, 1. ]),\n",
       " <a list of 2 Lists of Patches objects>)"
      ]
     },
     "execution_count": 13,
     "metadata": {},
     "output_type": "execute_result"
    },
    {
     "data": {
      "image/png": "[encoded data removed]",
      "text/plain": [
       "<Figure size 432x288 with 1 Axes>"
      ]
     },
     "metadata": {
      "needs_background": "light"
     },
     "output_type": "display_data"
    }
   ],
   "source": [
    "# histogram of y_test and y_predicted:\n",
    "plt.hist(np.c_[y_test,Y_predict_test])\n"
   ]
  },
  {
   "cell_type": "code",
   "execution_count": 14,
   "metadata": {},
   "outputs": [
    {
     "data": {
      "text/plain": [
       "(array([ 9155.,  1586.,  1394.,  1395.,  1344.,  1512.,  1830.,  2649.,\n",
       "         4889., 11859.]),\n",
       " array([7.0713495e-14, 9.9960156e-02, 1.9992031e-01, 2.9988047e-01,\n",
       "        3.9984062e-01, 4.9980077e-01, 5.9976095e-01, 6.9972110e-01,\n",
       "        7.9968125e-01, 8.9964139e-01, 9.9960154e-01], dtype=float32),\n",
       " <a list of 10 Patch objects>)"
      ]
     },
     "execution_count": 14,
     "metadata": {},
     "output_type": "execute_result"
    },
    {
     "data": {
      "image/png": "[encoded data removed]",
      "text/plain": [
       "<Figure size 432x288 with 1 Axes>"
      ]
     },
     "metadata": {
      "needs_background": "light"
     },
     "output_type": "display_data"
    }
   ],
   "source": [
    "plt.hist(probs)"
   ]
  },
  {
   "cell_type": "markdown",
   "metadata": {},
   "source": [
    "# also try Neural network"
   ]
  },
  {
   "cell_type": "code",
   "execution_count": 37,
   "metadata": {},
   "outputs": [
    {
     "name": "stdout",
     "output_type": "stream",
     "text": [
      "Model: \"sequential_2\"\n",
      "_________________________________________________________________\n",
      "Layer (type)                 Output Shape              Param #   \n",
      "=================================================================\n",
      "dense_8 (Dense)              (None, 1000)              23000     \n",
      "_________________________________________________________________\n",
      "dropout_6 (Dropout)          (None, 1000)              0         \n",
      "_________________________________________________________________\n",
      "dense_9 (Dense)              (None, 250)               250250    \n",
      "_________________________________________________________________\n",
      "dropout_7 (Dropout)          (None, 250)               0         \n",
      "_________________________________________________________________\n",
      "dense_10 (Dense)             (None, 100)               25100     \n",
      "_________________________________________________________________\n",
      "dropout_8 (Dropout)          (None, 100)               0         \n",
      "_________________________________________________________________\n",
      "dense_11 (Dense)             (None, 1)                 101       \n",
      "=================================================================\n",
      "Total params: 298,451\n",
      "Trainable params: 298,451\n",
      "Non-trainable params: 0\n",
      "_________________________________________________________________\n"
     ]
    }
   ],
   "source": [
    "\n",
    "# A simple example of Neural network. This basic neural network doesn't include any\n",
    "model = tf.keras.Sequential([\n",
    "  tf.keras.layers.Dense(1000, kernel_regularizer=keras.regularizers.l2(0.001), input_shape=(X.shape[1],)),  # must declare input shape\n",
    "  tf.keras.layers.Dropout(rate=0.1),\n",
    "  tf.keras.layers.Dense(250,activation=\"sigmoid\"),\n",
    "    tf.keras.layers.Dropout(rate=0.1),\n",
    "tf.keras.layers.Dense(100,activation=\"sigmoid\"),\n",
    "tf.keras.layers.Dropout(rate=0.1),\n",
    "\n",
    "])\n",
    "# third layer\n",
    "# 2 output labels: 1 for host-halo and 0 for subhalo\n",
    "model.add(tf.keras.layers.Dense(1,activation=\"sigmoid\"))\n",
    "\n",
    "\n",
    "\n",
    "\n",
    "# adam for Gradient boost\n",
    "model.compile(optimizer='adam',\n",
    "                       loss='binary_crossentropy',\n",
    "                       metrics=['accuracy', 'binary_crossentropy'])\n",
    "\n",
    "\n",
    "model.summary()\n"
   ]
  },
  {
   "cell_type": "code",
   "execution_count": 38,
   "metadata": {},
   "outputs": [
    {
     "name": "stdout",
     "output_type": "stream",
     "text": [
      "Epoch 1/10\n",
      "528/588 [=========================>....] - ETA: 20s - loss: nan - acc: 0.5513 - binary_crossentropy: 0.6930"
     ]
    },
    {
     "ename": "KeyboardInterrupt",
     "evalue": "",
     "output_type": "error",
     "traceback": [
      "\u001b[0;31m---------------------------------------------------------------------------\u001b[0m",
      "\u001b[0;31mKeyboardInterrupt\u001b[0m                         Traceback (most recent call last)",
      "\u001b[0;32m<ipython-input-38-4959f05458f7>\u001b[0m in \u001b[0;36m<module>\u001b[0;34m\u001b[0m\n\u001b[1;32m     39\u001b[0m \u001b[0;34m\u001b[0m\u001b[0m\n\u001b[1;32m     40\u001b[0m \u001b[0mnum_steps\u001b[0m\u001b[0;34m=\u001b[0m\u001b[0;36m10\u001b[0m\u001b[0;34m\u001b[0m\u001b[0;34m\u001b[0m\u001b[0m\n\u001b[0;32m---> 41\u001b[0;31m \u001b[0mtraining_history\u001b[0m \u001b[0;34m=\u001b[0m \u001b[0mmodel\u001b[0m\u001b[0;34m.\u001b[0m\u001b[0mfit\u001b[0m\u001b[0;34m(\u001b[0m\u001b[0mX_train\u001b[0m\u001b[0;34m,\u001b[0m\u001b[0my_train\u001b[0m\u001b[0;34m,\u001b[0m\u001b[0mvalidation_split\u001b[0m\u001b[0;34m=\u001b[0m\u001b[0;36m0.1\u001b[0m\u001b[0;34m,\u001b[0m\u001b[0mbatch_size\u001b[0m\u001b[0;34m=\u001b[0m\u001b[0mbatch_size\u001b[0m\u001b[0;34m,\u001b[0m \u001b[0mepochs\u001b[0m\u001b[0;34m=\u001b[0m\u001b[0mnum_steps\u001b[0m\u001b[0;34m,\u001b[0m\u001b[0msteps_per_epoch\u001b[0m\u001b[0;34m=\u001b[0m\u001b[0mint_step\u001b[0m\u001b[0;34m,\u001b[0m\u001b[0mshuffle\u001b[0m\u001b[0;34m=\u001b[0m\u001b[0;32mTrue\u001b[0m\u001b[0;34m)\u001b[0m\u001b[0;34m\u001b[0m\u001b[0;34m\u001b[0m\u001b[0m\n\u001b[0m\u001b[1;32m     42\u001b[0m \u001b[0;34m\u001b[0m\u001b[0m\n\u001b[1;32m     43\u001b[0m \u001b[0mprint\u001b[0m\u001b[0;34m(\u001b[0m\u001b[0mtraining_history\u001b[0m\u001b[0;34m.\u001b[0m\u001b[0mhistory\u001b[0m\u001b[0;34m.\u001b[0m\u001b[0mkeys\u001b[0m\u001b[0;34m(\u001b[0m\u001b[0;34m)\u001b[0m\u001b[0;34m)\u001b[0m\u001b[0;34m\u001b[0m\u001b[0;34m\u001b[0m\u001b[0m\n",
      "\u001b[0;32m~/anaconda3/envs/tf14/lib/python3.7/site-packages/tensorflow/python/keras/engine/training.py\u001b[0m in \u001b[0;36mfit\u001b[0;34m(self, x, y, batch_size, epochs, verbose, callbacks, validation_split, validation_data, shuffle, class_weight, sample_weight, initial_epoch, steps_per_epoch, validation_steps, validation_freq, max_queue_size, workers, use_multiprocessing, **kwargs)\u001b[0m\n\u001b[1;32m    778\u001b[0m           \u001b[0mvalidation_steps\u001b[0m\u001b[0;34m=\u001b[0m\u001b[0mvalidation_steps\u001b[0m\u001b[0;34m,\u001b[0m\u001b[0;34m\u001b[0m\u001b[0;34m\u001b[0m\u001b[0m\n\u001b[1;32m    779\u001b[0m           \u001b[0mvalidation_freq\u001b[0m\u001b[0;34m=\u001b[0m\u001b[0mvalidation_freq\u001b[0m\u001b[0;34m,\u001b[0m\u001b[0;34m\u001b[0m\u001b[0;34m\u001b[0m\u001b[0m\n\u001b[0;32m--> 780\u001b[0;31m           steps_name='steps_per_epoch')\n\u001b[0m\u001b[1;32m    781\u001b[0m \u001b[0;34m\u001b[0m\u001b[0m\n\u001b[1;32m    782\u001b[0m   def evaluate(self,\n",
      "\u001b[0;32m~/anaconda3/envs/tf14/lib/python3.7/site-packages/tensorflow/python/keras/engine/training_arrays.py\u001b[0m in \u001b[0;36mmodel_iteration\u001b[0;34m(model, inputs, targets, sample_weights, batch_size, epochs, verbose, callbacks, val_inputs, val_targets, val_sample_weights, shuffle, initial_epoch, steps_per_epoch, validation_steps, validation_freq, mode, validation_in_fit, prepared_feed_values_from_dataset, steps_name, **kwargs)\u001b[0m\n\u001b[1;32m    272\u001b[0m           \u001b[0;31m# `ins` can be callable in tf.distribute.Strategy + eager case.\u001b[0m\u001b[0;34m\u001b[0m\u001b[0;34m\u001b[0m\u001b[0;34m\u001b[0m\u001b[0m\n\u001b[1;32m    273\u001b[0m           \u001b[0mactual_inputs\u001b[0m \u001b[0;34m=\u001b[0m \u001b[0mins\u001b[0m\u001b[0;34m(\u001b[0m\u001b[0;34m)\u001b[0m \u001b[0;32mif\u001b[0m \u001b[0mcallable\u001b[0m\u001b[0;34m(\u001b[0m\u001b[0mins\u001b[0m\u001b[0;34m)\u001b[0m \u001b[0;32melse\u001b[0m \u001b[0mins\u001b[0m\u001b[0;34m\u001b[0m\u001b[0;34m\u001b[0m\u001b[0m\n\u001b[0;32m--> 274\u001b[0;31m           \u001b[0mbatch_outs\u001b[0m \u001b[0;34m=\u001b[0m \u001b[0mf\u001b[0m\u001b[0;34m(\u001b[0m\u001b[0mactual_inputs\u001b[0m\u001b[0;34m)\u001b[0m\u001b[0;34m\u001b[0m\u001b[0;34m\u001b[0m\u001b[0m\n\u001b[0m\u001b[1;32m    275\u001b[0m         \u001b[0;32mexcept\u001b[0m \u001b[0merrors\u001b[0m\u001b[0;34m.\u001b[0m\u001b[0mOutOfRangeError\u001b[0m\u001b[0;34m:\u001b[0m\u001b[0;34m\u001b[0m\u001b[0;34m\u001b[0m\u001b[0m\n\u001b[1;32m    276\u001b[0m           \u001b[0;32mif\u001b[0m \u001b[0mis_dataset\u001b[0m\u001b[0;34m:\u001b[0m\u001b[0;34m\u001b[0m\u001b[0;34m\u001b[0m\u001b[0m\n",
      "\u001b[0;32m~/anaconda3/envs/tf14/lib/python3.7/site-packages/tensorflow/python/keras/backend.py\u001b[0m in \u001b[0;36m__call__\u001b[0;34m(self, inputs)\u001b[0m\n\u001b[1;32m   3443\u001b[0m     \u001b[0moutputs\u001b[0m \u001b[0;34m=\u001b[0m \u001b[0mself\u001b[0m\u001b[0;34m.\u001b[0m\u001b[0m_graph_fn\u001b[0m\u001b[0;34m(\u001b[0m\u001b[0;34m*\u001b[0m\u001b[0mconverted_inputs\u001b[0m\u001b[0;34m)\u001b[0m\u001b[0;34m\u001b[0m\u001b[0;34m\u001b[0m\u001b[0m\n\u001b[1;32m   3444\u001b[0m     return nest.pack_sequence_as(\n\u001b[0;32m-> 3445\u001b[0;31m         \u001b[0mself\u001b[0m\u001b[0;34m.\u001b[0m\u001b[0m_outputs_structure\u001b[0m\u001b[0;34m,\u001b[0m \u001b[0;34m[\u001b[0m\u001b[0mx\u001b[0m\u001b[0;34m.\u001b[0m\u001b[0mnumpy\u001b[0m\u001b[0;34m(\u001b[0m\u001b[0;34m)\u001b[0m \u001b[0;32mfor\u001b[0m \u001b[0mx\u001b[0m \u001b[0;32min\u001b[0m \u001b[0moutputs\u001b[0m\u001b[0;34m]\u001b[0m\u001b[0;34m,\u001b[0m\u001b[0;34m\u001b[0m\u001b[0;34m\u001b[0m\u001b[0m\n\u001b[0m\u001b[1;32m   3446\u001b[0m         expand_composites=True)\n\u001b[1;32m   3447\u001b[0m \u001b[0;34m\u001b[0m\u001b[0m\n",
      "\u001b[0;32m~/anaconda3/envs/tf14/lib/python3.7/site-packages/tensorflow/python/keras/backend.py\u001b[0m in \u001b[0;36m<listcomp>\u001b[0;34m(.0)\u001b[0m\n\u001b[1;32m   3443\u001b[0m     \u001b[0moutputs\u001b[0m \u001b[0;34m=\u001b[0m \u001b[0mself\u001b[0m\u001b[0;34m.\u001b[0m\u001b[0m_graph_fn\u001b[0m\u001b[0;34m(\u001b[0m\u001b[0;34m*\u001b[0m\u001b[0mconverted_inputs\u001b[0m\u001b[0;34m)\u001b[0m\u001b[0;34m\u001b[0m\u001b[0;34m\u001b[0m\u001b[0m\n\u001b[1;32m   3444\u001b[0m     return nest.pack_sequence_as(\n\u001b[0;32m-> 3445\u001b[0;31m         \u001b[0mself\u001b[0m\u001b[0;34m.\u001b[0m\u001b[0m_outputs_structure\u001b[0m\u001b[0;34m,\u001b[0m \u001b[0;34m[\u001b[0m\u001b[0mx\u001b[0m\u001b[0;34m.\u001b[0m\u001b[0mnumpy\u001b[0m\u001b[0;34m(\u001b[0m\u001b[0;34m)\u001b[0m \u001b[0;32mfor\u001b[0m \u001b[0mx\u001b[0m \u001b[0;32min\u001b[0m \u001b[0moutputs\u001b[0m\u001b[0;34m]\u001b[0m\u001b[0;34m,\u001b[0m\u001b[0;34m\u001b[0m\u001b[0;34m\u001b[0m\u001b[0m\n\u001b[0m\u001b[1;32m   3446\u001b[0m         expand_composites=True)\n\u001b[1;32m   3447\u001b[0m \u001b[0;34m\u001b[0m\u001b[0m\n",
      "\u001b[0;32m~/anaconda3/envs/tf14/lib/python3.7/site-packages/tensorflow/python/framework/ops.py\u001b[0m in \u001b[0;36mnumpy\u001b[0;34m(self)\u001b[0m\n\u001b[1;32m    759\u001b[0m     \u001b[0;32mif\u001b[0m \u001b[0mself\u001b[0m\u001b[0;34m.\u001b[0m\u001b[0mdtype\u001b[0m \u001b[0;34m==\u001b[0m \u001b[0mdtypes\u001b[0m\u001b[0;34m.\u001b[0m\u001b[0mresource\u001b[0m\u001b[0;34m:\u001b[0m\u001b[0;34m\u001b[0m\u001b[0;34m\u001b[0m\u001b[0m\n\u001b[1;32m    760\u001b[0m       \u001b[0;32mraise\u001b[0m \u001b[0mValueError\u001b[0m\u001b[0;34m(\u001b[0m\u001b[0;34m\"Resource handles are not convertible to numpy.\"\u001b[0m\u001b[0;34m)\u001b[0m\u001b[0;34m\u001b[0m\u001b[0;34m\u001b[0m\u001b[0m\n\u001b[0;32m--> 761\u001b[0;31m     \u001b[0mmaybe_arr\u001b[0m \u001b[0;34m=\u001b[0m \u001b[0mself\u001b[0m\u001b[0;34m.\u001b[0m\u001b[0m_cpu_nograd\u001b[0m\u001b[0;34m(\u001b[0m\u001b[0;34m)\u001b[0m\u001b[0;34m.\u001b[0m\u001b[0m_numpy\u001b[0m\u001b[0;34m(\u001b[0m\u001b[0;34m)\u001b[0m  \u001b[0;31m# pylint: disable=protected-access\u001b[0m\u001b[0;34m\u001b[0m\u001b[0;34m\u001b[0m\u001b[0m\n\u001b[0m\u001b[1;32m    762\u001b[0m     \u001b[0;32mreturn\u001b[0m \u001b[0mmaybe_arr\u001b[0m\u001b[0;34m.\u001b[0m\u001b[0mcopy\u001b[0m\u001b[0;34m(\u001b[0m\u001b[0;34m)\u001b[0m \u001b[0;32mif\u001b[0m \u001b[0misinstance\u001b[0m\u001b[0;34m(\u001b[0m\u001b[0mmaybe_arr\u001b[0m\u001b[0;34m,\u001b[0m \u001b[0mnp\u001b[0m\u001b[0;34m.\u001b[0m\u001b[0mndarray\u001b[0m\u001b[0;34m)\u001b[0m \u001b[0;32melse\u001b[0m \u001b[0mmaybe_arr\u001b[0m\u001b[0;34m\u001b[0m\u001b[0;34m\u001b[0m\u001b[0m\n\u001b[1;32m    763\u001b[0m \u001b[0;34m\u001b[0m\u001b[0m\n",
      "\u001b[0;32m~/anaconda3/envs/tf14/lib/python3.7/site-packages/tensorflow/python/framework/ops.py\u001b[0m in \u001b[0;36m_cpu_nograd\u001b[0;34m(self)\u001b[0m\n\u001b[1;32m    932\u001b[0m       \u001b[0mA\u001b[0m \u001b[0mCPU\u001b[0m\u001b[0;34m-\u001b[0m\u001b[0mmemory\u001b[0m \u001b[0mbacked\u001b[0m \u001b[0mTensor\u001b[0m \u001b[0mobject\u001b[0m \u001b[0;32mwith\u001b[0m \u001b[0mthe\u001b[0m \u001b[0msame\u001b[0m \u001b[0mcontents\u001b[0m \u001b[0;32mas\u001b[0m \u001b[0mthis\u001b[0m \u001b[0mTensor\u001b[0m\u001b[0;34m.\u001b[0m\u001b[0;34m\u001b[0m\u001b[0;34m\u001b[0m\u001b[0m\n\u001b[1;32m    933\u001b[0m     \"\"\"\n\u001b[0;32m--> 934\u001b[0;31m     \u001b[0;32mreturn\u001b[0m \u001b[0mself\u001b[0m\u001b[0;34m.\u001b[0m\u001b[0m_copy_nograd\u001b[0m\u001b[0;34m(\u001b[0m\u001b[0mcontext\u001b[0m\u001b[0;34m.\u001b[0m\u001b[0mcontext\u001b[0m\u001b[0;34m(\u001b[0m\u001b[0;34m)\u001b[0m\u001b[0;34m,\u001b[0m \u001b[0;34m\"CPU:0\"\u001b[0m\u001b[0;34m)\u001b[0m\u001b[0;34m\u001b[0m\u001b[0;34m\u001b[0m\u001b[0m\n\u001b[0m\u001b[1;32m    935\u001b[0m \u001b[0;34m\u001b[0m\u001b[0m\n\u001b[1;32m    936\u001b[0m   \u001b[0;32mdef\u001b[0m \u001b[0mcpu\u001b[0m\u001b[0;34m(\u001b[0m\u001b[0mself\u001b[0m\u001b[0;34m)\u001b[0m\u001b[0;34m:\u001b[0m\u001b[0;34m\u001b[0m\u001b[0;34m\u001b[0m\u001b[0m\n",
      "\u001b[0;32m~/anaconda3/envs/tf14/lib/python3.7/site-packages/tensorflow/python/framework/ops.py\u001b[0m in \u001b[0;36m_copy_nograd\u001b[0;34m(self, ctx, device_name)\u001b[0m\n\u001b[1;32m    875\u001b[0m     \u001b[0;32mtry\u001b[0m\u001b[0;34m:\u001b[0m\u001b[0;34m\u001b[0m\u001b[0;34m\u001b[0m\u001b[0m\n\u001b[1;32m    876\u001b[0m       \u001b[0mctx\u001b[0m\u001b[0;34m.\u001b[0m\u001b[0mensure_initialized\u001b[0m\u001b[0;34m(\u001b[0m\u001b[0;34m)\u001b[0m\u001b[0;34m\u001b[0m\u001b[0;34m\u001b[0m\u001b[0m\n\u001b[0;32m--> 877\u001b[0;31m       \u001b[0mnew_tensor\u001b[0m \u001b[0;34m=\u001b[0m \u001b[0mself\u001b[0m\u001b[0;34m.\u001b[0m\u001b[0m_copy_to_device\u001b[0m\u001b[0;34m(\u001b[0m\u001b[0mcontext\u001b[0m\u001b[0;34m=\u001b[0m\u001b[0mctx\u001b[0m\u001b[0;34m.\u001b[0m\u001b[0m_handle\u001b[0m\u001b[0;34m,\u001b[0m \u001b[0mdevice\u001b[0m\u001b[0;34m=\u001b[0m\u001b[0mdevice_name\u001b[0m\u001b[0;34m)\u001b[0m\u001b[0;34m\u001b[0m\u001b[0;34m\u001b[0m\u001b[0m\n\u001b[0m\u001b[1;32m    878\u001b[0m     \u001b[0;32mexcept\u001b[0m \u001b[0mcore\u001b[0m\u001b[0;34m.\u001b[0m\u001b[0m_NotOkStatusException\u001b[0m \u001b[0;32mas\u001b[0m \u001b[0me\u001b[0m\u001b[0;34m:\u001b[0m\u001b[0;34m\u001b[0m\u001b[0;34m\u001b[0m\u001b[0m\n\u001b[1;32m    879\u001b[0m       \u001b[0msix\u001b[0m\u001b[0;34m.\u001b[0m\u001b[0mraise_from\u001b[0m\u001b[0;34m(\u001b[0m\u001b[0mcore\u001b[0m\u001b[0;34m.\u001b[0m\u001b[0m_status_to_exception\u001b[0m\u001b[0;34m(\u001b[0m\u001b[0me\u001b[0m\u001b[0;34m.\u001b[0m\u001b[0mcode\u001b[0m\u001b[0;34m,\u001b[0m \u001b[0me\u001b[0m\u001b[0;34m.\u001b[0m\u001b[0mmessage\u001b[0m\u001b[0;34m)\u001b[0m\u001b[0;34m,\u001b[0m \u001b[0;32mNone\u001b[0m\u001b[0;34m)\u001b[0m\u001b[0;34m\u001b[0m\u001b[0;34m\u001b[0m\u001b[0m\n",
      "\u001b[0;31mKeyboardInterrupt\u001b[0m: "
     ]
    }
   ],
   "source": [
    "batch_size = 256\n",
    "\n",
    "int_step = int(len(y_train)/batch_size)+1\n",
    "\n",
    "X = np.r_[fusion_central,fusion_sat]\n",
    "y = p_cen\n",
    "\n",
    "\n",
    "## only select samples with logMs>1e8 ?\n",
    "#mask_7 = (X[:,0]>9)&(X[:,0]<11)\n",
    "# drop data with missing values:\n",
    "# fit diffeent model for different logMs\n",
    "mask_7 = (X[:,0]>8)\n",
    "X = X[mask_7,:]\n",
    "y = y[mask_7]\n",
    "\n",
    "\n",
    "\n",
    "\n",
    "\"\"\"\n",
    "\n",
    "\n",
    "# remove nan values with mean\n",
    "from sklearn.impute import SimpleImputer\n",
    "my_imputer = SimpleImputer()\n",
    "#X_train.replace([-np.inf,np.inf],np.nan,inplace=True)\n",
    "X_train = my_imputer.fit_transform(X_train)\n",
    "\n",
    "X_test = my_imputer.fit_transform(X_test)\n",
    "\n",
    "\n",
    "\n",
    "\"\"\"\n",
    "\n",
    "# make sure there is no nan values\n",
    "assert not np.any(np.isnan(X_train))\n",
    "\n",
    "# 10 is good enough\n",
    "\n",
    "num_steps=10\n",
    "training_history = model.fit(X_train,y_train,validation_split=0.1,batch_size=batch_size, epochs=num_steps,steps_per_epoch=int_step,shuffle=True)\n",
    "\n",
    "print(training_history.history.keys())\n",
    "## test:\n",
    "y_p = model.predict_classes(X_test).ravel()\n",
    "mask_good = abs(y_p-y_test)<0.05\n",
    "print(len(y_test[mask_good]),len(y_test))\n",
    "\n",
    "\n",
    "print(\"Validation\")\n",
    "\n",
    "Y_predict_test = model.predict_classes(X_test)\n",
    "Y_predict_test = Y_predict_test.ravel()\n",
    "mask_good = abs(Y_predict_test-y_test)<0.01\n",
    "\n",
    "print(\"Good=%d Bad=%d\"%(len(Y_predict_test[mask_good]),len(Y_predict_test)-len(Y_predict_test[mask_good])))\n",
    "\n",
    "print(\"Accuracy=%.4f for testing set\"%(len(Y_predict_test[mask_good])/len(Y_predict_test)))\n",
    "\n",
    "\n",
    "\n"
   ]
  },
  {
   "cell_type": "code",
   "execution_count": null,
   "metadata": {},
   "outputs": [],
   "source": [
    "\n",
    "\n",
    "prob = model.predict_proba(X_test)\n",
    "probs = prob[:, 1]\n",
    "\n",
    "auc = roc_auc_score(y_test, probs)\n",
    "print('AUROC: %.4f' % auc)\n",
    "\n",
    "## draw ROC:\n",
    "fpr, tpr, thresholds = roc_curve(y_test, probs)\n",
    "\n",
    "\n",
    "plt.plot(fpr, tpr, color='r', label='AUROC=%.4f' % auc)\n",
    "plt.plot([0, 1], [0, 1], color='k', linewidth=4)\n",
    "plt.xlabel('False Positive Rate')\n",
    "plt.ylabel('True Positive Rate')\n",
    "plt.title('ROC')\n",
    "plt.legend()"
   ]
  },
  {
   "cell_type": "markdown",
   "metadata": {},
   "source": [
    "# k mean clustering:\n",
    "# Use this to pre-process the data and make ensemble modeling"
   ]
  },
  {
   "cell_type": "code",
   "execution_count": null,
   "metadata": {},
   "outputs": [],
   "source": [
    "from sklearn.cluster import KMeans\n",
    "\n",
    "\n",
    "X = np.r_[fusion_central,fusion_sat]\n",
    "y = p_cen\n",
    "\n",
    "mask_7 = (X[:,0]>0)\n",
    "X = X[mask_7,:]\n",
    "y = y[mask_7]\n",
    "\n",
    "\n",
    "\n",
    "\n",
    "kmeans = KMeans(n_clusters=4,n_jobs=-1)\n",
    "mask_finite = np.isfinite(np.sum(X,axis=1))\n",
    "kmeans.fit(X[mask_finite,:])\n",
    "y_kmeans = kmeans.predict(X[mask_finite,:])"
   ]
  },
  {
   "cell_type": "code",
   "execution_count": null,
   "metadata": {},
   "outputs": [],
   "source": [
    "# check clustering properties:\n",
    "\n",
    "x_name = 0\n",
    "y_name = 1\n",
    "\n",
    "\n",
    "plt.scatter(X[mask_finite, x_name], X[mask_finite, y_name], c=y_kmeans, s=5, cmap='viridis')\n",
    "plt.xlabel(\"%s\"%label_names[x_name])\n",
    "plt.ylabel(\"%s\"%label_names[y_name])\n",
    "centers = kmeans.cluster_centers_\n",
    "plt.scatter(centers[:, 0], centers[:, 1], c='black', s=200, alpha=0.5)"
   ]
  },
  {
   "cell_type": "code",
   "execution_count": null,
   "metadata": {},
   "outputs": [],
   "source": []
  },
  {
   "cell_type": "code",
   "execution_count": null,
   "metadata": {},
   "outputs": [],
   "source": [
    "# Find best k:\n",
    "# Also scale to 0-1 for all values\n",
    "from sklearn.preprocessing import MinMaxScaler\n",
    "mms = MinMaxScaler()\n",
    "mms.fit(X[mask_finite,:])\n",
    "data_transformed = mms.transform(X[mask_finite,:])\n",
    "\n",
    "Sum_of_squared_distances = []\n",
    "K = np.arange(1,15)\n",
    "for k in K:\n",
    "    print(\"Doing %d of %d\"%(k,len(K)))\n",
    "    km = KMeans(n_clusters=k,n_jobs=-1)\n",
    "    km = km.fit(data_transformed)\n",
    "    Sum_of_squared_distances.append(km.inertia_)"
   ]
  },
  {
   "cell_type": "code",
   "execution_count": null,
   "metadata": {},
   "outputs": [],
   "source": [
    "# plot:\n",
    "plt.plot(K,Sum_of_squared_distances,\"k\")\n",
    "plt.xlabel(\"K\")\n",
    "plt.ylabel(\"sum of squared distance in group\")"
   ]
  },
  {
   "cell_type": "code",
   "execution_count": null,
   "metadata": {},
   "outputs": [],
   "source": [
    "# Choose group k=5:\n",
    "\n",
    "kmeans = KMeans(n_clusters=5,n_jobs=-1)\n",
    "\n",
    "kmeans.fit(data_transformed)\n",
    "y_kmeans = kmeans.predict(data_transformed)\n",
    "# check clustering properties:\n",
    "\n",
    "x_name = 0\n",
    "y_name = 1\n",
    "\n",
    "\n",
    "plt.scatter(data_transformed[:, x_name], data_transformed[:, y_name], c=y_kmeans, s=5, cmap='viridis', alpha=0.3)\n",
    "plt.xlabel(\"%s scaled\"%label_names[x_name])\n",
    "plt.ylabel(\"%s scaled\"%label_names[y_name])\n",
    "centers = kmeans.cluster_centers_\n",
    "plt.scatter(centers[:, 0], centers[:, 1], c='black', s=200, alpha=1)"
   ]
  },
  {
   "cell_type": "code",
   "execution_count": null,
   "metadata": {},
   "outputs": [],
   "source": []
  },
  {
   "cell_type": "markdown",
   "metadata": {},
   "source": [
    "# Let's try k clustring first, and Do xgboost in these clusters:\n",
    "Coming soon!"
   ]
  },
  {
   "cell_type": "code",
   "execution_count": 26,
   "metadata": {},
   "outputs": [
    {
     "ename": "ValueError",
     "evalue": "Input contains infinity or a value too large for dtype('float64').",
     "output_type": "error",
     "traceback": [
      "\u001b[0;31m---------------------------------------------------------------------------\u001b[0m",
      "\u001b[0;31mValueError\u001b[0m                                Traceback (most recent call last)",
      "\u001b[0;32m<ipython-input-26-ad12b8654832>\u001b[0m in \u001b[0;36m<module>\u001b[0;34m\u001b[0m\n\u001b[1;32m      3\u001b[0m \u001b[0mmy_imputer\u001b[0m \u001b[0;34m=\u001b[0m \u001b[0mSimpleImputer\u001b[0m\u001b[0;34m(\u001b[0m\u001b[0;34m)\u001b[0m\u001b[0;34m\u001b[0m\u001b[0;34m\u001b[0m\u001b[0m\n\u001b[1;32m      4\u001b[0m \u001b[0;31m#X_train.replace([-np.inf,np.inf],np.nan,inplace=True)\u001b[0m\u001b[0;34m\u001b[0m\u001b[0;34m\u001b[0m\u001b[0;34m\u001b[0m\u001b[0m\n\u001b[0;32m----> 5\u001b[0;31m \u001b[0mX_train\u001b[0m \u001b[0;34m=\u001b[0m \u001b[0mmy_imputer\u001b[0m\u001b[0;34m.\u001b[0m\u001b[0mfit_transform\u001b[0m\u001b[0;34m(\u001b[0m\u001b[0mX_train\u001b[0m\u001b[0;34m)\u001b[0m\u001b[0;34m\u001b[0m\u001b[0;34m\u001b[0m\u001b[0m\n\u001b[0m\u001b[1;32m      6\u001b[0m \u001b[0;34m\u001b[0m\u001b[0m\n\u001b[1;32m      7\u001b[0m \u001b[0mX_test\u001b[0m \u001b[0;34m=\u001b[0m \u001b[0mmy_imputer\u001b[0m\u001b[0;34m.\u001b[0m\u001b[0mfit_transform\u001b[0m\u001b[0;34m(\u001b[0m\u001b[0mX_test\u001b[0m\u001b[0;34m)\u001b[0m\u001b[0;34m\u001b[0m\u001b[0;34m\u001b[0m\u001b[0m\n",
      "\u001b[0;32m~/anaconda3/envs/tf14/lib/python3.7/site-packages/sklearn/base.py\u001b[0m in \u001b[0;36mfit_transform\u001b[0;34m(self, X, y, **fit_params)\u001b[0m\n\u001b[1;32m    551\u001b[0m         \u001b[0;32mif\u001b[0m \u001b[0my\u001b[0m \u001b[0;32mis\u001b[0m \u001b[0;32mNone\u001b[0m\u001b[0;34m:\u001b[0m\u001b[0;34m\u001b[0m\u001b[0;34m\u001b[0m\u001b[0m\n\u001b[1;32m    552\u001b[0m             \u001b[0;31m# fit method of arity 1 (unsupervised transformation)\u001b[0m\u001b[0;34m\u001b[0m\u001b[0;34m\u001b[0m\u001b[0;34m\u001b[0m\u001b[0m\n\u001b[0;32m--> 553\u001b[0;31m             \u001b[0;32mreturn\u001b[0m \u001b[0mself\u001b[0m\u001b[0;34m.\u001b[0m\u001b[0mfit\u001b[0m\u001b[0;34m(\u001b[0m\u001b[0mX\u001b[0m\u001b[0;34m,\u001b[0m \u001b[0;34m**\u001b[0m\u001b[0mfit_params\u001b[0m\u001b[0;34m)\u001b[0m\u001b[0;34m.\u001b[0m\u001b[0mtransform\u001b[0m\u001b[0;34m(\u001b[0m\u001b[0mX\u001b[0m\u001b[0;34m)\u001b[0m\u001b[0;34m\u001b[0m\u001b[0;34m\u001b[0m\u001b[0m\n\u001b[0m\u001b[1;32m    554\u001b[0m         \u001b[0;32melse\u001b[0m\u001b[0;34m:\u001b[0m\u001b[0;34m\u001b[0m\u001b[0;34m\u001b[0m\u001b[0m\n\u001b[1;32m    555\u001b[0m             \u001b[0;31m# fit method of arity 2 (supervised transformation)\u001b[0m\u001b[0;34m\u001b[0m\u001b[0;34m\u001b[0m\u001b[0;34m\u001b[0m\u001b[0m\n",
      "\u001b[0;32m~/anaconda3/envs/tf14/lib/python3.7/site-packages/sklearn/impute/_base.py\u001b[0m in \u001b[0;36mfit\u001b[0;34m(self, X, y)\u001b[0m\n\u001b[1;32m    230\u001b[0m         \u001b[0mself\u001b[0m \u001b[0;34m:\u001b[0m \u001b[0mSimpleImputer\u001b[0m\u001b[0;34m\u001b[0m\u001b[0;34m\u001b[0m\u001b[0m\n\u001b[1;32m    231\u001b[0m         \"\"\"\n\u001b[0;32m--> 232\u001b[0;31m         \u001b[0mX\u001b[0m \u001b[0;34m=\u001b[0m \u001b[0mself\u001b[0m\u001b[0;34m.\u001b[0m\u001b[0m_validate_input\u001b[0m\u001b[0;34m(\u001b[0m\u001b[0mX\u001b[0m\u001b[0;34m)\u001b[0m\u001b[0;34m\u001b[0m\u001b[0;34m\u001b[0m\u001b[0m\n\u001b[0m\u001b[1;32m    233\u001b[0m \u001b[0;34m\u001b[0m\u001b[0m\n\u001b[1;32m    234\u001b[0m         \u001b[0;31m# default fill_value is 0 for numerical input and \"missing_value\"\u001b[0m\u001b[0;34m\u001b[0m\u001b[0;34m\u001b[0m\u001b[0;34m\u001b[0m\u001b[0m\n",
      "\u001b[0;32m~/anaconda3/envs/tf14/lib/python3.7/site-packages/sklearn/impute/_base.py\u001b[0m in \u001b[0;36m_validate_input\u001b[0;34m(self, X)\u001b[0m\n\u001b[1;32m    204\u001b[0m                                  \"\".format(self.strategy, X.dtype.kind))\n\u001b[1;32m    205\u001b[0m             \u001b[0;32melse\u001b[0m\u001b[0;34m:\u001b[0m\u001b[0;34m\u001b[0m\u001b[0;34m\u001b[0m\u001b[0m\n\u001b[0;32m--> 206\u001b[0;31m                 \u001b[0;32mraise\u001b[0m \u001b[0mve\u001b[0m\u001b[0;34m\u001b[0m\u001b[0;34m\u001b[0m\u001b[0m\n\u001b[0m\u001b[1;32m    207\u001b[0m \u001b[0;34m\u001b[0m\u001b[0m\n\u001b[1;32m    208\u001b[0m         \u001b[0m_check_inputs_dtype\u001b[0m\u001b[0;34m(\u001b[0m\u001b[0mX\u001b[0m\u001b[0;34m,\u001b[0m \u001b[0mself\u001b[0m\u001b[0;34m.\u001b[0m\u001b[0mmissing_values\u001b[0m\u001b[0;34m)\u001b[0m\u001b[0;34m\u001b[0m\u001b[0;34m\u001b[0m\u001b[0m\n",
      "\u001b[0;32m~/anaconda3/envs/tf14/lib/python3.7/site-packages/sklearn/impute/_base.py\u001b[0m in \u001b[0;36m_validate_input\u001b[0;34m(self, X)\u001b[0m\n\u001b[1;32m    197\u001b[0m         \u001b[0;32mtry\u001b[0m\u001b[0;34m:\u001b[0m\u001b[0;34m\u001b[0m\u001b[0;34m\u001b[0m\u001b[0m\n\u001b[1;32m    198\u001b[0m             X = check_array(X, accept_sparse='csc', dtype=dtype,\n\u001b[0;32m--> 199\u001b[0;31m                             force_all_finite=force_all_finite, copy=self.copy)\n\u001b[0m\u001b[1;32m    200\u001b[0m         \u001b[0;32mexcept\u001b[0m \u001b[0mValueError\u001b[0m \u001b[0;32mas\u001b[0m \u001b[0mve\u001b[0m\u001b[0;34m:\u001b[0m\u001b[0;34m\u001b[0m\u001b[0;34m\u001b[0m\u001b[0m\n\u001b[1;32m    201\u001b[0m             \u001b[0;32mif\u001b[0m \u001b[0;34m\"could not convert\"\u001b[0m \u001b[0;32min\u001b[0m \u001b[0mstr\u001b[0m\u001b[0;34m(\u001b[0m\u001b[0mve\u001b[0m\u001b[0;34m)\u001b[0m\u001b[0;34m:\u001b[0m\u001b[0;34m\u001b[0m\u001b[0;34m\u001b[0m\u001b[0m\n",
      "\u001b[0;32m~/anaconda3/envs/tf14/lib/python3.7/site-packages/sklearn/utils/validation.py\u001b[0m in \u001b[0;36mcheck_array\u001b[0;34m(array, accept_sparse, accept_large_sparse, dtype, order, copy, force_all_finite, ensure_2d, allow_nd, ensure_min_samples, ensure_min_features, warn_on_dtype, estimator)\u001b[0m\n\u001b[1;32m    540\u001b[0m         \u001b[0;32mif\u001b[0m \u001b[0mforce_all_finite\u001b[0m\u001b[0;34m:\u001b[0m\u001b[0;34m\u001b[0m\u001b[0;34m\u001b[0m\u001b[0m\n\u001b[1;32m    541\u001b[0m             _assert_all_finite(array,\n\u001b[0;32m--> 542\u001b[0;31m                                allow_nan=force_all_finite == 'allow-nan')\n\u001b[0m\u001b[1;32m    543\u001b[0m \u001b[0;34m\u001b[0m\u001b[0m\n\u001b[1;32m    544\u001b[0m     \u001b[0;32mif\u001b[0m \u001b[0mensure_min_samples\u001b[0m \u001b[0;34m>\u001b[0m \u001b[0;36m0\u001b[0m\u001b[0;34m:\u001b[0m\u001b[0;34m\u001b[0m\u001b[0;34m\u001b[0m\u001b[0m\n",
      "\u001b[0;32m~/anaconda3/envs/tf14/lib/python3.7/site-packages/sklearn/utils/validation.py\u001b[0m in \u001b[0;36m_assert_all_finite\u001b[0;34m(X, allow_nan)\u001b[0m\n\u001b[1;32m     54\u001b[0m                 not allow_nan and not np.isfinite(X).all()):\n\u001b[1;32m     55\u001b[0m             \u001b[0mtype_err\u001b[0m \u001b[0;34m=\u001b[0m \u001b[0;34m'infinity'\u001b[0m \u001b[0;32mif\u001b[0m \u001b[0mallow_nan\u001b[0m \u001b[0;32melse\u001b[0m \u001b[0;34m'NaN, infinity'\u001b[0m\u001b[0;34m\u001b[0m\u001b[0;34m\u001b[0m\u001b[0m\n\u001b[0;32m---> 56\u001b[0;31m             \u001b[0;32mraise\u001b[0m \u001b[0mValueError\u001b[0m\u001b[0;34m(\u001b[0m\u001b[0mmsg_err\u001b[0m\u001b[0;34m.\u001b[0m\u001b[0mformat\u001b[0m\u001b[0;34m(\u001b[0m\u001b[0mtype_err\u001b[0m\u001b[0;34m,\u001b[0m \u001b[0mX\u001b[0m\u001b[0;34m.\u001b[0m\u001b[0mdtype\u001b[0m\u001b[0;34m)\u001b[0m\u001b[0;34m)\u001b[0m\u001b[0;34m\u001b[0m\u001b[0;34m\u001b[0m\u001b[0m\n\u001b[0m\u001b[1;32m     57\u001b[0m     \u001b[0;31m# for object dtype data, we only check for NaNs (GH-13254)\u001b[0m\u001b[0;34m\u001b[0m\u001b[0;34m\u001b[0m\u001b[0;34m\u001b[0m\u001b[0m\n\u001b[1;32m     58\u001b[0m     \u001b[0;32melif\u001b[0m \u001b[0mX\u001b[0m\u001b[0;34m.\u001b[0m\u001b[0mdtype\u001b[0m \u001b[0;34m==\u001b[0m \u001b[0mnp\u001b[0m\u001b[0;34m.\u001b[0m\u001b[0mdtype\u001b[0m\u001b[0;34m(\u001b[0m\u001b[0;34m'object'\u001b[0m\u001b[0;34m)\u001b[0m \u001b[0;32mand\u001b[0m \u001b[0;32mnot\u001b[0m \u001b[0mallow_nan\u001b[0m\u001b[0;34m:\u001b[0m\u001b[0;34m\u001b[0m\u001b[0;34m\u001b[0m\u001b[0m\n",
      "\u001b[0;31mValueError\u001b[0m: Input contains infinity or a value too large for dtype('float64')."
     ]
    }
   ],
   "source": [
    "\n",
    "# remove nan values with mean\n",
    "from sklearn.impute import SimpleImputer\n",
    "my_imputer = SimpleImputer()\n",
    "#X_train.replace([-np.inf,np.inf],np.nan,inplace=True)\n",
    "X_train = my_imputer.fit_transform(X_train)\n",
    "\n",
    "X_test = my_imputer.fit_transform(X_test)\n",
    "\n",
    "\n"
   ]
  },
  {
   "cell_type": "code",
   "execution_count": null,
   "metadata": {},
   "outputs": [],
   "source": []
  },
  {
   "cell_type": "code",
   "execution_count": null,
   "metadata": {},
   "outputs": [],
   "source": []
  },
  {
   "cell_type": "code",
   "execution_count": null,
   "metadata": {},
   "outputs": [],
   "source": []
  },
  {
   "cell_type": "code",
   "execution_count": null,
   "metadata": {},
   "outputs": [],
   "source": []
  },
  {
   "cell_type": "markdown",
   "metadata": {},
   "source": [
    "### "
   ]
  },
  {
   "cell_type": "code",
   "execution_count": null,
   "metadata": {},
   "outputs": [],
   "source": []
  },
  {
   "cell_type": "code",
   "execution_count": null,
   "metadata": {},
   "outputs": [],
   "source": []
  },
  {
   "cell_type": "code",
   "execution_count": null,
   "metadata": {},
   "outputs": [],
   "source": []
  },
  {
   "cell_type": "code",
   "execution_count": null,
   "metadata": {},
   "outputs": [],
   "source": []
  },
  {
   "cell_type": "code",
   "execution_count": null,
   "metadata": {},
   "outputs": [],
   "source": []
  },
  {
   "cell_type": "code",
   "execution_count": null,
   "metadata": {},
   "outputs": [],
   "source": []
  },
  {
   "cell_type": "code",
   "execution_count": null,
   "metadata": {},
   "outputs": [],
   "source": []
  },
  {
   "cell_type": "code",
   "execution_count": null,
   "metadata": {},
   "outputs": [],
   "source": []
  }
 ],
 "metadata": {
  "kernelspec": {
   "display_name": "Python 3",
   "language": "python",
   "name": "python3"
  },
  "language_info": {
   "codemirror_mode": {
    "name": "ipython",
    "version": 3
   },
   "file_extension": ".py",
   "mimetype": "text/x-python",
   "name": "python",
   "nbconvert_exporter": "python",
   "pygments_lexer": "ipython3",
   "version": "3.7.3"
  }
 },
 "nbformat": 4,
 "nbformat_minor": 2
}
